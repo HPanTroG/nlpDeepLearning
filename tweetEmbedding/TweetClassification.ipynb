{
 "cells": [
  {
   "cell_type": "code",
   "execution_count": 80,
   "metadata": {},
   "outputs": [],
   "source": [
    "import pandas as pd\n",
    "import numpy as np\n",
    "import time\n",
    "from tabulate import tabulate\n",
    "from sklearn.model_selection import train_test_split\n",
    "from sklearn.feature_extraction.text import TfidfVectorizer\n",
    "from sklearn.svm import LinearSVC, SVC\n",
    "from sklearn import preprocessing\n",
    "from sklearn.metrics import classification_report, f1_score\n",
    "from gensim.models.word2vec import Word2Vec\n",
    "from sklearn.ensemble import ExtraTreesClassifier\n",
    "from collections import defaultdict\n",
    "import matplotlib.pyplot as plt\n",
    "import seaborn as sns\n",
    "from sklearn.pipeline import Pipeline\n",
    "import torch\n",
    "from torch.autograd import Variable\n",
    "from torch.utils.data import DataLoader, Dataset\n",
    "import torch.nn as nn"
   ]
  },
  {
   "cell_type": "code",
   "execution_count": 121,
   "metadata": {},
   "outputs": [],
   "source": [
    "WORK_DIR = \"/home/nguyen/\"\n",
    "RAW_DATA = \"/data/labeled_tweets.txt\"\n",
    "PROCESSED_DATA = \"data/processed_tweets.csv\"\n",
    "GLOVE_6B_50D_PATH = WORK_DIR +\"Glove6B/glove.6B.50d.txt\"\n",
    "GLOVE_840B_300D_PATH = WORK_DIR+\"glove.840B.300d.txt\"\n",
    "ENCODING = \"utf-8\"\n",
    "CHARACTER_VOCAB = \"abcdefghijklmnopqrstuvwxyz0123456789-,;.!?:’\\\"/\\|_#$%&^*~‘+-=<>()[]{}\"\n"
   ]
  },
  {
   "cell_type": "markdown",
   "metadata": {},
   "source": [
    "## Read data and split train, test"
   ]
  },
  {
   "cell_type": "code",
   "execution_count": 3,
   "metadata": {},
   "outputs": [
    {
     "name": "stdout",
     "output_type": "stream",
     "text": [
      "data size: (302925, 2)\n",
      "Data after removing NAN rows: (302453, 2)\n"
     ]
    }
   ],
   "source": [
    "# read data and split train, test\n",
    "data = pd.read_csv(WORK_DIR+PROCESSED_DATA)\n",
    "# data = pd.read_csv(\"../examples.csv\")\n",
    "print(\"data size: {}\".format(data.shape))\n",
    "data.dropna(subset=['tweets'], inplace=True)\n",
    "print(\"Data after removing NAN rows: {}\".format(data.shape))\n",
    "\n",
    "\n",
    "labelEncoder = preprocessing.LabelEncoder()\n",
    "labels = labelEncoder.fit_transform(data.labels.values)\n",
    "\n",
    "\n",
    "dataTrain, dataTest, labelTrain, labelTest = train_test_split(data.tweets.values, labels,\n",
    "                                                              test_size=0.2, random_state=42, stratify=labels)"
   ]
  },
  {
   "cell_type": "code",
   "execution_count": 4,
   "metadata": {},
   "outputs": [
    {
     "name": "stdout",
     "output_type": "stream",
     "text": [
      "                         tweets\n",
      "labels                         \n",
      "Business                  35539\n",
      "Education                 12925\n",
      "Entertainment             22484\n",
      "Health                    28798\n",
      "Law and Crime             16105\n",
      "Politics                  45089\n",
      "Religion                  11310\n",
      "Science and Technology    32256\n",
      "Sports                    43503\n",
      "Travel                    38394\n",
      "Weather and Environment   16050\n"
     ]
    }
   ],
   "source": [
    "print(data.groupby('labels').count())"
   ]
  },
  {
   "cell_type": "markdown",
   "metadata": {},
   "source": [
    "## Load pretrained glove embedding"
   ]
  },
  {
   "cell_type": "code",
   "execution_count": 5,
   "metadata": {},
   "outputs": [],
   "source": [
    "# read glove vectors\n",
    "glove_small = {}\n",
    "\n",
    "all_words = set(w for words in dataTrain for w in words)\n",
    "with open(GLOVE_6B_50D_PATH, \"rb\") as infile:\n",
    "    for line in infile:\n",
    "        parts = line.split()\n",
    "        word = parts[0].decode(ENCODING)\n",
    "        if (word in all_words):\n",
    "            nums=np.array(parts[1:], dtype=np.float32)\n",
    "            glove_small[word] = nums\n",
    "\n",
    "            \n",
    "glove_big = {}\n",
    "with open(GLOVE_840B_300D_PATH, \"rb\") as infile:\n",
    "    for line in infile:\n",
    "        parts = line.split()\n",
    "        word = parts[0].decode(ENCODING)\n",
    "        if word in all_words:\n",
    "            nums=np.array(parts[1:], dtype=np.float32)\n",
    "            glove_big[word] = nums"
   ]
  },
  {
   "cell_type": "markdown",
   "metadata": {},
   "source": [
    "## Learn word embedding from scratch using only train dataset"
   ]
  },
  {
   "cell_type": "code",
   "execution_count": 6,
   "metadata": {},
   "outputs": [],
   "source": [
    "# word2vec embendding trained from scratch\n",
    "model = Word2Vec(dataTrain, size=100, window=5, min_count=5, workers=2)\n",
    "w2v = {w: vec for w, vec in zip(model.wv.index2word, list(model.wv.vectors))}"
   ]
  },
  {
   "cell_type": "markdown",
   "metadata": {},
   "source": [
    "## Different ways to form tweet vector by combining word embeddings"
   ]
  },
  {
   "cell_type": "code",
   "execution_count": 25,
   "metadata": {},
   "outputs": [],
   "source": [
    "class MeanEmbeddingVectorizer(object):\n",
    "    def __init__(self, word2vec):\n",
    "        self.word2vec = word2vec\n",
    "        self.dim=len(word2vec[next(iter(word2vec))])\n",
    "            \n",
    "    def fit(self, X):\n",
    "        return self \n",
    "\n",
    "    def transform(self, X):\n",
    "        return np.array([\n",
    "            np.mean([self.word2vec[w] for w in words if w in self.word2vec] \n",
    "                    or [np.zeros(self.dim)], axis=0)\n",
    "            for words in X\n",
    "        ])\n",
    "\n",
    "    \n",
    "# and a tf-idf version of the same\n",
    "##> each input is represented as a mean of embedding*tfidf if individual words\n",
    "class TfidfEmbeddingVectorizer(object):\n",
    "    def __init__(self, word2vec):\n",
    "        self.word2vec = word2vec\n",
    "        self.word2weight = None\n",
    "        self.dim=len(word2vec[next(iter(word2vec))])\n",
    "       \n",
    "        \n",
    "    def fit(self, X):\n",
    "        tfidf = TfidfVectorizer(analyzer=lambda x: x)\n",
    "        tfidf.fit(X)\n",
    "\n",
    "        max_idf = max(tfidf.idf_)\n",
    "        self.word2weight = defaultdict(\n",
    "            lambda: max_idf, \n",
    "            [(w, tfidf.idf_[i]) for w, i in tfidf.vocabulary_.items()])\n",
    "    \n",
    "        return self\n",
    "    \n",
    "    def transform(self, X):\n",
    "        return np.array([\n",
    "                np.mean([self.word2vec[w] * self.word2weight[w]\n",
    "                         for w in words if w in self.word2vec] or\n",
    "                        [np.zeros(self.dim)], axis=0)\n",
    "                for words in X\n",
    "            ])"
   ]
  },
  {
   "cell_type": "markdown",
   "metadata": {},
   "source": [
    "## Run different models"
   ]
  },
  {
   "cell_type": "code",
   "execution_count": 31,
   "metadata": {},
   "outputs": [],
   "source": [
    "def run_model(name, model, vectorizer):\n",
    "    vectorizer.fit(dataTrain)\n",
    "    features_train = vectorizer.transform(dataTrain)\n",
    "    features_test = vectorizer.transform(dataTest)\n",
    "    print(\"Training features: {}\".format(features_train.shape))\n",
    "    # print(vectorizer.get_feature_names())\n",
    "    print(\"Training......................\")\n",
    "    \n",
    "    model.fit(features_train, labelTrain)\n",
    "    print(\"Predicting....................\")\n",
    "    predTest = model.predict(features_test)\n",
    "    f1_test = f1_score(predTest, labelTest, average = 'micro')\n",
    "    f1_train = f1_score(model.predict(features_train), labelTrain, average = 'micro')\n",
    "    print(\"Model: {} F1 Train: {}\\n\".format(name, f1_train))\n",
    "    print(\"Model: {} F1 Test: {}\\n\".format(name, f1_test))\n",
    "    print(classification_report(predTest, labelTest))\n",
    "#     f1_scores.append(f1)\n",
    "    return f1_train, f1_test"
   ]
  },
  {
   "cell_type": "code",
   "execution_count": 32,
   "metadata": {},
   "outputs": [
    {
     "name": "stdout",
     "output_type": "stream",
     "text": [
      "Training features: (241962, 101030)\n",
      "Training......................\n",
      "Predicting....................\n",
      "Model: svc_tfidf F1 Train: 0.7757705755449202\n",
      "\n",
      "Model: svc_tfidf F1 Test: 0.7576168355623151\n",
      "\n",
      "              precision    recall  f1-score   support\n",
      "\n",
      "           0       0.55      0.66      0.60      5934\n",
      "           1       0.68      0.79      0.73      2219\n",
      "           2       0.68      0.80      0.73      3796\n",
      "           3       0.78      0.72      0.75      6248\n",
      "           4       0.61      0.83      0.70      2362\n",
      "           5       0.87      0.77      0.82     10195\n",
      "           6       0.58      0.92      0.71      1424\n",
      "           7       0.61      0.68      0.64      5748\n",
      "           8       0.94      0.79      0.86     10266\n",
      "           9       0.89      0.73      0.80      9328\n",
      "          10       0.82      0.88      0.85      2971\n",
      "\n",
      "    accuracy                           0.76     60491\n",
      "   macro avg       0.73      0.78      0.74     60491\n",
      "weighted avg       0.78      0.76      0.76     60491\n",
      "\n"
     ]
    }
   ],
   "source": [
    "# svc tfidf\n",
    "f1_scores_train = []\n",
    "f1_scores_test = []\n",
    "model_name = \"svc_tfidf\"\n",
    "vectorizer = TfidfVectorizer()\n",
    "svc_tfidf = LinearSVC(multi_class='ovr', C = 0.01, random_state=42)\n",
    "f1_train, f1_test = run_model(model_name, svc_tfidf, vectorizer)\n",
    "f1_scores_train.append([model_name, f1_train])\n",
    "f1_scores_test.append([model_name, f1_test])"
   ]
  },
  {
   "cell_type": "code",
   "execution_count": 37,
   "metadata": {},
   "outputs": [
    {
     "name": "stdout",
     "output_type": "stream",
     "text": [
      "Vectorizer......................\n",
      "Training features: (241962, 100)\n",
      "Training......................\n",
      "Predicting....................\n",
      "Model: w2v_meanEmbedding F1 Train: 0.9904075846620544\n",
      "\n",
      "Model: w2v_meanEmbedding F1 Test: 0.41754971813988856\n",
      "\n",
      "              precision    recall  f1-score   support\n",
      "\n",
      "           0       0.32      0.45      0.37      5006\n",
      "           1       0.35      0.82      0.49      1108\n",
      "           2       0.26      0.72      0.38      1641\n",
      "           3       0.37      0.61      0.46      3475\n",
      "           4       0.31      0.64      0.42      1559\n",
      "           5       0.65      0.36      0.46     16492\n",
      "           6       0.24      0.94      0.38       580\n",
      "           7       0.27      0.41      0.32      4199\n",
      "           8       0.61      0.33      0.42     16095\n",
      "           9       0.46      0.41      0.43      8666\n",
      "          10       0.26      0.51      0.35      1670\n",
      "\n",
      "    accuracy                           0.42     60491\n",
      "   macro avg       0.37      0.56      0.41     60491\n",
      "weighted avg       0.50      0.42      0.42     60491\n",
      "\n"
     ]
    }
   ],
   "source": [
    "# mean word2vec\n",
    "print(\"Vectorizer......................\")\n",
    "model_name = 'w2v_meanEmbedding'\n",
    "vectorizer = MeanEmbeddingVectorizer(w2v)\n",
    "model = ExtraTreesClassifier(n_estimators=100, random_state=42)\n",
    "f1_train, f1_test = run_model(model_name, model, vectorizer)"
   ]
  },
  {
   "cell_type": "code",
   "execution_count": 41,
   "metadata": {},
   "outputs": [],
   "source": [
    "f1_scores_train.append([model_name, f1_train])\n",
    "f1_scores_test.append([model_name, f1_test])"
   ]
  },
  {
   "cell_type": "code",
   "execution_count": 42,
   "metadata": {},
   "outputs": [
    {
     "data": {
      "text/plain": [
       "[['svc_tfidf', 0.7757705755449202], ['w2v_meanEmbedding', 0.9904075846620544]]"
      ]
     },
     "execution_count": 42,
     "metadata": {},
     "output_type": "execute_result"
    }
   ],
   "source": [
    "f1_scores_train"
   ]
  },
  {
   "cell_type": "code",
   "execution_count": 48,
   "metadata": {},
   "outputs": [
    {
     "name": "stdout",
     "output_type": "stream",
     "text": [
      "Training features: (241962, 100)\n",
      "Training......................\n",
      "Predicting....................\n",
      "Model: w2v_tfidfEmbedding F1 Train: 0.9904075846620544\n",
      "\n",
      "Model: w2v_tfidfEmbedding F1 Test: 0.4247739333123936\n",
      "\n",
      "              precision    recall  f1-score   support\n",
      "\n",
      "           0       0.31      0.51      0.38      4297\n",
      "           1       0.35      0.85      0.49      1051\n",
      "           2       0.26      0.83      0.40      1425\n",
      "           3       0.36      0.65      0.46      3231\n",
      "           4       0.29      0.71      0.42      1333\n",
      "           5       0.67      0.36      0.47     16834\n",
      "           6       0.24      0.96      0.38       555\n",
      "           7       0.27      0.44      0.33      3856\n",
      "           8       0.63      0.33      0.43     16714\n",
      "           9       0.49      0.40      0.44      9352\n",
      "          10       0.29      0.50      0.37      1843\n",
      "\n",
      "    accuracy                           0.42     60491\n",
      "   macro avg       0.38      0.59      0.42     60491\n",
      "weighted avg       0.52      0.42      0.43     60491\n",
      "\n"
     ]
    }
   ],
   "source": [
    "# tfidf weighted word2vec\n",
    "model_name = \"w2v_tfidfEmbedding\"\n",
    "vectorizer = TfidfEmbeddingVectorizer(w2v)\n",
    "model = ExtraTreesClassifier(n_estimators=200, random_state=42)\n",
    "f1_train, f1_test = run_model(model_name, model, vectorizer)"
   ]
  },
  {
   "cell_type": "code",
   "execution_count": 49,
   "metadata": {},
   "outputs": [],
   "source": [
    "f1_scores_train.append([model_name, f1_train])\n",
    "f1_scores_test.append([model_name, f1_test])"
   ]
  },
  {
   "cell_type": "code",
   "execution_count": 51,
   "metadata": {},
   "outputs": [
    {
     "name": "stdout",
     "output_type": "stream",
     "text": [
      "Training features: (241962, 50)\n",
      "Training......................\n",
      "Predicting....................\n",
      "Model: global_small F1 Train: 0.9903951860209455\n",
      "\n",
      "Model: global_small F1 Test: 0.4055809955199947\n",
      "\n",
      "              precision    recall  f1-score   support\n",
      "\n",
      "           0       0.31      0.50      0.38      4384\n",
      "           1       0.32      0.91      0.48       910\n",
      "           2       0.26      0.77      0.38      1496\n",
      "           3       0.35      0.67      0.46      2993\n",
      "           4       0.22      0.74      0.34       953\n",
      "           5       0.65      0.34      0.44     17539\n",
      "           6       0.24      0.96      0.38       558\n",
      "           7       0.25      0.44      0.32      3713\n",
      "           8       0.60      0.30      0.40     17378\n",
      "           9       0.48      0.39      0.43      9426\n",
      "          10       0.20      0.57      0.30      1141\n",
      "\n",
      "    accuracy                           0.41     60491\n",
      "   macro avg       0.35      0.60      0.39     60491\n",
      "weighted avg       0.51      0.41      0.41     60491\n",
      "\n"
     ]
    }
   ],
   "source": [
    "# pretrained glove_small embedding\n",
    "model_name = \"global_small\"\n",
    "vectorizer = MeanEmbeddingVectorizer(glove_small)\n",
    "model = ExtraTreesClassifier(n_estimators=200, random_state=42)\n",
    "f1_train, f1_test = run_model(model_name, model, vectorizer)"
   ]
  },
  {
   "cell_type": "code",
   "execution_count": 52,
   "metadata": {},
   "outputs": [],
   "source": [
    "f1_scores_train.append([model_name, f1_train])\n",
    "f1_scores_test.append([model_name, f1_test])"
   ]
  },
  {
   "cell_type": "code",
   "execution_count": 53,
   "metadata": {},
   "outputs": [
    {
     "name": "stdout",
     "output_type": "stream",
     "text": [
      "Training features: (241962, 50)\n",
      "Training......................\n",
      "Predicting....................\n",
      "Model: glove_small_tfidf F1 Train: 0.9904034517816848\n",
      "\n",
      "Model: glove_small_tfidf F1 Test: 0.4148385710270949\n",
      "\n",
      "              precision    recall  f1-score   support\n",
      "\n",
      "           0       0.30      0.51      0.38      4256\n",
      "           1       0.32      0.93      0.48       899\n",
      "           2       0.26      0.78      0.39      1523\n",
      "           3       0.35      0.68      0.47      2992\n",
      "           4       0.22      0.78      0.35       914\n",
      "           5       0.67      0.34      0.46     17564\n",
      "           6       0.23      0.96      0.38       552\n",
      "           7       0.25      0.45      0.33      3635\n",
      "           8       0.62      0.31      0.41     17249\n",
      "           9       0.49      0.40      0.44      9603\n",
      "          10       0.24      0.59      0.34      1304\n",
      "\n",
      "    accuracy                           0.41     60491\n",
      "   macro avg       0.36      0.61      0.40     60491\n",
      "weighted avg       0.53      0.41      0.42     60491\n",
      "\n"
     ]
    }
   ],
   "source": [
    "# pretrained glove_small weighted embedding\n",
    "model_name = \"glove_small_tfidf\"\n",
    "vectorizer = TfidfEmbeddingVectorizer(glove_small)\n",
    "model = ExtraTreesClassifier(n_estimators=200, random_state=42)\n",
    "f1 = run_model(model_name, model, vectorizer)"
   ]
  },
  {
   "cell_type": "code",
   "execution_count": 54,
   "metadata": {},
   "outputs": [],
   "source": [
    "f1_scores_train.append([model_name, f1_train])\n",
    "f1_scores_test.append([model_name, f1_test])"
   ]
  },
  {
   "cell_type": "code",
   "execution_count": 55,
   "metadata": {},
   "outputs": [
    {
     "name": "stdout",
     "output_type": "stream",
     "text": [
      "Training features: (241962, 300)\n",
      "Training......................\n",
      "Predicting....................\n",
      "Model: glove_big F1 Train: 0.9904034517816848\n",
      "\n",
      "Model: glove_big F1 Test: 0.4283116496668926\n",
      "\n",
      "              precision    recall  f1-score   support\n",
      "\n",
      "           0       0.31      0.51      0.39      4319\n",
      "           1       0.36      0.86      0.50      1078\n",
      "           2       0.27      0.77      0.40      1543\n",
      "           3       0.37      0.63      0.47      3374\n",
      "           4       0.26      0.76      0.39      1117\n",
      "           5       0.68      0.36      0.47     16919\n",
      "           6       0.24      0.96      0.38       559\n",
      "           7       0.27      0.45      0.33      3822\n",
      "           8       0.62      0.32      0.43     16716\n",
      "           9       0.51      0.41      0.46      9435\n",
      "          10       0.28      0.56      0.37      1609\n",
      "\n",
      "    accuracy                           0.43     60491\n",
      "   macro avg       0.38      0.60      0.42     60491\n",
      "weighted avg       0.53      0.43      0.44     60491\n",
      "\n"
     ]
    }
   ],
   "source": [
    "model_name = \"glove_big\"\n",
    "vectorizer = MeanEmbeddingVectorizer(glove_big)\n",
    "model = ExtraTreesClassifier(n_estimators=200, random_state=42)\n",
    "f1_train, f1_test = run_model(model_name, model, vectorizer)"
   ]
  },
  {
   "cell_type": "code",
   "execution_count": 56,
   "metadata": {},
   "outputs": [],
   "source": [
    "f1_scores_train.append([model_name, f1_train])\n",
    "f1_scores_test.append([model_name, f1_test])"
   ]
  },
  {
   "cell_type": "code",
   "execution_count": 57,
   "metadata": {},
   "outputs": [
    {
     "name": "stdout",
     "output_type": "stream",
     "text": [
      "Training features: (241962, 300)\n",
      "Training......................\n",
      "Predicting....................\n",
      "Model: glove_big_tfidf F1 Train: 0.9904034517816848\n",
      "\n",
      "Model: glove_big_tfidf F1 Test: 0.4339488518953233\n",
      "\n",
      "              precision    recall  f1-score   support\n",
      "\n",
      "           0       0.31      0.51      0.39      4341\n",
      "           1       0.35      0.86      0.49      1044\n",
      "           2       0.27      0.82      0.41      1501\n",
      "           3       0.37      0.65      0.47      3327\n",
      "           4       0.26      0.79      0.39      1075\n",
      "           5       0.68      0.37      0.48     16675\n",
      "           6       0.24      0.97      0.38       557\n",
      "           7       0.27      0.45      0.34      3873\n",
      "           8       0.64      0.33      0.44     16729\n",
      "           9       0.52      0.42      0.46      9510\n",
      "          10       0.30      0.53      0.39      1859\n",
      "\n",
      "    accuracy                           0.43     60491\n",
      "   macro avg       0.38      0.61      0.42     60491\n",
      "weighted avg       0.53      0.43      0.44     60491\n",
      "\n"
     ]
    }
   ],
   "source": [
    "model_name = \"glove_big_tfidf\"\n",
    "vectorizer = TfidfEmbeddingVectorizer(glove_big)\n",
    "model = ExtraTreesClassifier(n_estimators=200, random_state=42)\n",
    "f1 = run_model(model_name, model, vectorizer)"
   ]
  },
  {
   "cell_type": "code",
   "execution_count": 59,
   "metadata": {},
   "outputs": [],
   "source": [
    "f1_scores_train.append([model_name, f1_train])\n",
    "f1_scores_test.append([model_name, f1_test])"
   ]
  },
  {
   "cell_type": "code",
   "execution_count": 75,
   "metadata": {},
   "outputs": [
    {
     "name": "stdout",
     "output_type": "stream",
     "text": [
      "               models  F1_train   F1_test\n",
      "0           svc_tfidf  0.775771  0.757617\n",
      "1   w2v_meanEmbedding  0.990408  0.417550\n",
      "2  w2v_tfidfEmbedding  0.990408  0.424774\n",
      "3        global_small  0.990395  0.405581\n",
      "4   glove_small_tfidf  0.990395  0.405581\n",
      "5           glove_big  0.990403  0.428312\n",
      "6     glove_big_tfidf  0.990403  0.428312\n",
      "7     glove_big_tfidf  0.990403  0.428312\n",
      "8     glove_big_tfidf  0.990403  0.428312\n",
      "9     glove_big_tfidf  0.990403  0.428312\n"
     ]
    },
    {
     "data": {
      "text/plain": [
       "(array([0, 1, 2, 3, 4, 5, 6, 7, 8, 9]), <a list of 10 Text xticklabel objects>)"
      ]
     },
     "execution_count": 75,
     "metadata": {},
     "output_type": "execute_result"
    },
    {
     "data": {
      "image/png": "[encoded data removed]",
      "text/plain": [
       "<Figure size 1008x432 with 1 Axes>"
      ]
     },
     "metadata": {},
     "output_type": "display_data"
    }
   ],
   "source": [
    "#plot\n",
    "plottedData = pd.DataFrame(f1_scores_train, columns = ['models', 'F1_train'])\n",
    "plottedData = plottedData.merge(pd.DataFrame(f1_scores_test, columns =['models', 'F1_test']), how = 'left', on='models')\n",
    "print(plottedData)\n",
    "plt.style.use('ggplot')\n",
    "plt.rcParams[\"figure.figsize\"] = (14,6)\n",
    "plottedData.plot(x = 'models', y = ['F1_train', 'F1_test'], kind = 'bar')\n",
    "plt.xticks(rotation = '30')"
   ]
  },
  {
   "cell_type": "markdown",
   "metadata": {},
   "source": [
    "## Train on a simpler model: Reduce number of estimators\n",
    "- Result on test set gets reduced"
   ]
  },
  {
   "cell_type": "code",
   "execution_count": 61,
   "metadata": {},
   "outputs": [
    {
     "name": "stdout",
     "output_type": "stream",
     "text": [
      "Training features: (241962, 300)\n",
      "Training......................\n",
      "Predicting....................\n",
      "Model: glove_big_tfidf F1 Train: 0.9904034517816848\n",
      "\n",
      "Model: glove_big_tfidf F1 Test: 0.3696417648906449\n",
      "\n",
      "              precision    recall  f1-score   support\n",
      "\n",
      "           0       0.38      0.30      0.33      8943\n",
      "           1       0.36      0.58      0.45      1630\n",
      "           2       0.31      0.36      0.33      3854\n",
      "           3       0.39      0.41      0.40      5397\n",
      "           4       0.26      0.40      0.32      2096\n",
      "           5       0.53      0.36      0.43     13104\n",
      "           6       0.25      0.60      0.35       921\n",
      "           7       0.27      0.33      0.30      5317\n",
      "           8       0.41      0.33      0.36     10795\n",
      "           9       0.38      0.43      0.41      6791\n",
      "          10       0.22      0.43      0.29      1643\n",
      "\n",
      "    accuracy                           0.37     60491\n",
      "   macro avg       0.34      0.41      0.36     60491\n",
      "weighted avg       0.39      0.37      0.37     60491\n",
      "\n"
     ]
    }
   ],
   "source": [
    "# reduce the number of estimators\n",
    "model_name = \"glove_big_tfidf\"\n",
    "vectorizer = TfidfEmbeddingVectorizer(glove_big)\n",
    "model = ExtraTreesClassifier(n_estimators=15, random_state=42)\n",
    "f1 = run_model(model_name, model, vectorizer)"
   ]
  },
  {
   "cell_type": "markdown",
   "metadata": {},
   "source": [
    "## word2vec embedding trained from scratch on the whole dataset"
   ]
  },
  {
   "cell_type": "code",
   "execution_count": 77,
   "metadata": {},
   "outputs": [
    {
     "name": "stdout",
     "output_type": "stream",
     "text": [
      "Training features: (241962, 100)\n",
      "Training......................\n",
      "Predicting....................\n",
      "Model: w2v_allData F1 Train: 0.9904075846620544\n",
      "\n",
      "Model: w2v_allData F1 Test: 0.42715445272850505\n",
      "\n",
      "              precision    recall  f1-score   support\n",
      "\n",
      "           0       0.31      0.51      0.38      4301\n",
      "           1       0.34      0.87      0.49      1008\n",
      "           2       0.26      0.81      0.39      1437\n",
      "           3       0.36      0.67      0.47      3129\n",
      "           4       0.29      0.72      0.42      1318\n",
      "           5       0.66      0.35      0.46     16921\n",
      "           6       0.23      0.96      0.38       548\n",
      "           7       0.28      0.43      0.34      4149\n",
      "           8       0.65      0.33      0.44     16975\n",
      "           9       0.49      0.41      0.45      9169\n",
      "          10       0.27      0.56      0.36      1536\n",
      "\n",
      "    accuracy                           0.43     60491\n",
      "   macro avg       0.38      0.60      0.42     60491\n",
      "weighted avg       0.53      0.43      0.43     60491\n",
      "\n"
     ]
    }
   ],
   "source": [
    "model = Word2Vec(data.tweets.values, size=100, window=5, min_count=5, workers=2)\n",
    "w2v = {w: vec for w, vec in zip(model.wv.index2word, list(model.wv.vectors))}\n",
    "\n",
    "model_name = \"w2v_allData\"\n",
    "vectorizer = MeanEmbeddingVectorizer(w2v)\n",
    "model = ExtraTreesClassifier(n_estimators=200, random_state=42)\n",
    "f1_train, f1_test = run_model(model_name, model, vectorizer)\n"
   ]
  },
  {
   "cell_type": "code",
   "execution_count": null,
   "metadata": {},
   "outputs": [],
   "source": []
  },
  {
   "cell_type": "markdown",
   "metadata": {},
   "source": [
    "## Character level tweet embedding"
   ]
  },
  {
   "cell_type": "code",
   "execution_count": 1,
   "metadata": {},
   "outputs": [],
   "source": [
    "import pandas as pd\n",
    "import numpy as np\n",
    "import time\n",
    "from tabulate import tabulate\n",
    "from sklearn.model_selection import train_test_split\n",
    "from sklearn.feature_extraction.text import TfidfVectorizer\n",
    "from sklearn.svm import LinearSVC, SVC\n",
    "from sklearn import preprocessing\n",
    "from sklearn.metrics import classification_report, f1_score\n",
    "from gensim.models.word2vec import Word2Vec\n",
    "from sklearn.ensemble import ExtraTreesClassifier\n",
    "from collections import defaultdict\n",
    "import matplotlib.pyplot as plt\n",
    "import seaborn as sns\n",
    "from sklearn.pipeline import Pipeline\n",
    "import torch\n",
    "from torch.autograd import Variable\n",
    "from torch.utils.data import DataLoader, Dataset, TensorDataset\n",
    "import torch.nn as nn"
   ]
  },
  {
   "cell_type": "code",
   "execution_count": 2,
   "metadata": {},
   "outputs": [],
   "source": [
    "WORK_DIR = \"/home/nguyen/\"\n",
    "RAW_DATA = \"/data/labeled_tweets.txt\"\n",
    "PROCESSED_DATA = \"data/processed_tweets.csv\"\n",
    "GLOVE_6B_50D_PATH = WORK_DIR +\"Glove6B/glove.6B.50d.txt\"\n",
    "GLOVE_840B_300D_PATH = WORK_DIR+\"glove.840B.300d.txt\"\n",
    "ENCODING = \"utf-8\"\n",
    "CHARACTER_VOCAB = \"abcdefghijklmnopqrstuvwxyz0123456789-,;.!?:’\\\"/\\|_#$%&^*~‘+-=<>()[]{}\""
   ]
  },
  {
   "cell_type": "code",
   "execution_count": 3,
   "metadata": {},
   "outputs": [],
   "source": [
    "# hyperparameter settings\n",
    "max_len = 140\n",
    "vocab_size = 75\n",
    "batch_size = 64\n",
    "learning_rate = 0.01\n",
    "hidden_size = 50\n",
    "num_epochs = 5"
   ]
  },
  {
   "cell_type": "code",
   "execution_count": 4,
   "metadata": {},
   "outputs": [
    {
     "name": "stdout",
     "output_type": "stream",
     "text": [
      "data size: (302925, 2)\n",
      "Data after removing NAN rows: (302453, 2)\n"
     ]
    }
   ],
   "source": [
    "# read data and split train, test\n",
    "data = pd.read_csv(WORK_DIR+PROCESSED_DATA)\n",
    "# data = pd.read_csv(\"../examples.csv\")\n",
    "print(\"data size: {}\".format(data.shape))\n",
    "data.dropna(subset=['tweets'], inplace=True)\n",
    "print(\"Data after removing NAN rows: {}\".format(data.shape))\n",
    "\n",
    "\n",
    "labelEncoder = preprocessing.LabelEncoder()\n",
    "labels = labelEncoder.fit_transform(data.labels.values)\n",
    "\n",
    "\n",
    "dataTrain, dataTest, labelTrain, labelTest = train_test_split(data.tweets.values, labels,\n",
    "                                                              test_size=0.2, random_state=42, stratify=labels)"
   ]
  },
  {
   "cell_type": "code",
   "execution_count": 5,
   "metadata": {},
   "outputs": [],
   "source": [
    "# # convert data to index vectors\n",
    "# int2char = dict(enumerate(CHARACTER_VOCAB))\n",
    "# char2int = {char: index+1 for index, char in int2char.items()}\n",
    "\n",
    "\n",
    "# def charToIndex(data, max_len):\n",
    "#     encoded = np.zeros((data.shape[0], max_len), dtype=np.int64)\n",
    "    \n",
    "#     lineCount = 0\n",
    "#     for line in data:\n",
    "#         charCount=0\n",
    "#         for index_char, char in enumerate(line[::-1]):\n",
    "#             charCount+=1\n",
    "    \n",
    "            \n",
    "#             if charCount> max_len:\n",
    "#                 break\n",
    "#             if char in char2int:\n",
    "#                 encoded[lineCount][index_char] = char2int[char]\n",
    "#         lineCount +=1\n",
    "#     return encoded"
   ]
  },
  {
   "cell_type": "code",
   "execution_count": 6,
   "metadata": {},
   "outputs": [],
   "source": [
    "# create one-hot vector\n",
    "# def oneHotVector(data, vocab_size):\n",
    "   \n",
    "#     one_hot = torch.zeros((np.multiply(*data.shape), vocab_size), dtype=torch.int32)\n",
    "#     # Fill the appropriate elements with ones\n",
    "#     one_hot[np.arange(one_hot.shape[0]), data.flatten()] = 1.\n",
    "    \n",
    "#     # Finally reshape it to get back to the original array\n",
    "#     one_hot = one_hot.reshape((*data.shape, vocab_size))\n",
    "    \n",
    "#     return one_hot"
   ]
  },
  {
   "cell_type": "code",
   "execution_count": 7,
   "metadata": {},
   "outputs": [],
   "source": [
    "# #test\n",
    "# x = np.array(['fdfd', 'sfe'])\n",
    "# encoded = charToIndex(x, 14)\n",
    "# print(encoded)\n",
    "# test_seq = np.array([[3, 5, 1], [4,3,2]])\n",
    "# print(test_seq)\n",
    "# one_hot = oneHotVector(encoded, 20)\n",
    "\n",
    "# print(one_hot)"
   ]
  },
  {
   "cell_type": "code",
   "execution_count": 8,
   "metadata": {},
   "outputs": [],
   "source": [
    "# #\n",
    "# x_train = charToIndex(dataTrain, max_len)\n",
    "# x_test = charToIndex(dataTest, max_len)\n",
    "# y_train = torch.LongTensor(labelTrain)\n",
    "# y_test = torch.LongTensor(labelTest)"
   ]
  },
  {
   "cell_type": "code",
   "execution_count": 9,
   "metadata": {},
   "outputs": [
    {
     "data": {
      "text/plain": [
       "{0, 1, 2, 3, 4, 5, 6, 7, 8, 9, 10}"
      ]
     },
     "execution_count": 9,
     "metadata": {},
     "output_type": "execute_result"
    }
   ],
   "source": [
    "set(labelTrain)"
   ]
  },
  {
   "cell_type": "code",
   "execution_count": 10,
   "metadata": {},
   "outputs": [],
   "source": [
    "class DataReader(Dataset):\n",
    "    def __init__(self, data, labels, alphabet, max_len):\n",
    "        self.max_len = max_len\n",
    "        self.y = torch.LongTensor(labels)\n",
    "        self.data = data\n",
    "        self.label = labels\n",
    "        self.alphabet = alphabet\n",
    "            \n",
    "    def __len__(self):\n",
    "        return len(self.label)\n",
    "\n",
    "\n",
    "    def __getitem__(self, idx):\n",
    "        X = self.index(idx)\n",
    "        y = self.y[idx]\n",
    "        return X, y\n",
    "\n",
    "    def index(self, idx):\n",
    "        X = torch.zeros(self.max_len, dtype = torch.long)\n",
    "        sequence = self.data[idx]\n",
    "        i=0\n",
    "        for index_char, char in enumerate(sequence[::-1]):\n",
    "            i+=1\n",
    "            if i> self.max_len:\n",
    "                break\n",
    "            if self.char2Index(char)!=-1:\n",
    "                X[index_char] = self.char2Index(char)\n",
    "        return X\n",
    "    \n",
    "    \n",
    "    def oneHotEncode(self, idx):\n",
    "        # X = (batch, 70, sequence_length)\n",
    "        X = torch.zeros(len(self.alphabet), self.max_len)\n",
    "       \n",
    "        sequence = self.data[idx]\n",
    "        \n",
    "        i=0\n",
    "        for index_char, char in enumerate(sequence[::-1]):\n",
    "            i+=1\n",
    "            if i> self.max_len:\n",
    "                break\n",
    "            if self.char2Index(char)!=-1:\n",
    "                X[self.char2Index(char)][index_char] = 1.0\n",
    "        return X\n",
    "\n",
    "    def char2Index(self, character):\n",
    "        return self.alphabet.find(character)\n"
   ]
  },
  {
   "cell_type": "code",
   "execution_count": 11,
   "metadata": {},
   "outputs": [],
   "source": [
    "train_dataset = DataReader(dataTrain, labelTrain, CHARACTER_VOCAB, max_len)\n",
    "train_loader = DataLoader(train_dataset, batch_size=64, num_workers=4, drop_last=False)\n",
    "\n",
    "test_dataset = DataReader(dataTest, labelTest, CHARACTER_VOCAB, max_len)\n",
    "test_loader = DataLoader(test_dataset, batch_size=64*2, num_workers=4, drop_last=False)\n",
    "\n",
    "# for i_batch, sample_batched in enumerate(train_loader):\n",
    "#     if i_batch == 0:\n",
    "#         print(sample_batched[0])"
   ]
  },
  {
   "cell_type": "code",
   "execution_count": 28,
   "metadata": {},
   "outputs": [],
   "source": [
    "class BiGRUModel(nn.Module):\n",
    "    def __init__(self, input_size, hidden_size, output_size):\n",
    "        super(BiGRUModel, self).__init__()\n",
    "        self.hidden_size = hidden_size\n",
    "        \n",
    "        self.embedding = nn.Embedding(input_size, hidden_size)\n",
    "        self.gru = nn.GRU(hidden_size, hidden_size, bidirectional = False)\n",
    "        \n",
    "        \n",
    "        self.out = nn.Linear(hidden_size, output_size)\n",
    "    \n",
    "    def forward(self, input, hidden):\n",
    "#         print(input.shape)\n",
    "        batch_size = input.size(0)\n",
    "        embedded = self.embedding(input).view(input.size(1),batch_size,-1)\n",
    "#         print(embedded.shape)\n",
    "        output, hidden = self.gru(embedded, hidden)\n",
    "#         print(output.shape)\n",
    "        \n",
    "        output = self.out(output).view(batch_size, -1)\n",
    "#         print(output.shape)\n",
    "        return output, hidden\n",
    "    def initHidden(self, batch_size):\n",
    "        return torch.zeros(1, batch_size, self.hidden_size)\n",
    "      "
   ]
  },
  {
   "cell_type": "markdown",
   "metadata": {},
   "source": [
    "### layers' size:\n",
    "- input size:  \n",
    "    + torch.Size([64, 140]): batch_size, max_len\n",
    "- embedding size:\n",
    "    + torch.Size([140, 64, 50]): max_len, batch_size, embedding_size\n",
    "- GRU size:\n",
    "    + torch.Size([140, 64, 50]): max_len, batch_size, embedding_size\n",
    "- Linear size: \n",
    "    + torch.Size([64, 1540]): batch_size, flatten_GRU\n",
    "- Softmax:\n",
    "    + torch.Size([64, 1]): batch_size, output"
   ]
  },
  {
   "cell_type": "code",
   "execution_count": 29,
   "metadata": {},
   "outputs": [],
   "source": [
    "model = BiGRUModel(vocab_size, hidden_size, len(set(labelTrain)))\n",
    "optimizer = torch.optim.SGD(model.parameters(), lr = learning_rate)\n",
    "loss_func = nn.CrossEntropyLoss()"
   ]
  },
  {
   "cell_type": "code",
   "execution_count": 39,
   "metadata": {},
   "outputs": [
    {
     "name": "stdout",
     "output_type": "stream",
     "text": [
      "Train size:  (241962,)\n",
      "Batch:  64\n",
      "#Number of iter per each epoch:  3780.65625\n",
      "Test size:  (60491,)\n",
      "#iters per epoch:  315.0572916666667\n"
     ]
    }
   ],
   "source": [
    "print(\"Train size: \", dataTrain.shape)\n",
    "print(\"Batch: \", batch_size)\n",
    "print(\"#Number of iter per each epoch: \", (dataTrain.shape[0]/batch_size))\n",
    "\n",
    "print(\"Test size: \", dataTest.shape)\n",
    "print(\"#iters per epoch: \", (dataTest.shape[0]/(3*batch_size)))"
   ]
  },
  {
   "cell_type": "code",
   "execution_count": 45,
   "metadata": {},
   "outputs": [
    {
     "data": {
      "text/plain": [
       "BiGRUModel(\n",
       "  (embedding): Embedding(75, 50)\n",
       "  (gru): GRU(50, 50)\n",
       "  (out): Linear(in_features=50, out_features=11, bias=True)\n",
       ")"
      ]
     },
     "execution_count": 45,
     "metadata": {},
     "output_type": "execute_result"
    }
   ],
   "source": [
    "device = torch.device('cuda:0')\n",
    "model.to(device)"
   ]
  },
  {
   "cell_type": "code",
   "execution_count": 43,
   "metadata": {},
   "outputs": [
    {
     "name": "stdout",
     "output_type": "stream",
     "text": [
      "--(Epoch, iter): [1,    50] loss: 6.448\n",
      "--(Epoch, iter): [1,   100] loss: 6.376\n",
      "--(Epoch, iter): [1,   150] loss: 6.342\n",
      "--(Epoch, iter): [1,   200] loss: 6.287\n",
      "--(Epoch, iter): [1,   250] loss: 6.280\n",
      "--(Epoch, iter): [1,   300] loss: 6.287\n",
      "--(Epoch, iter): [1,   350] loss: 6.231\n",
      "--(Epoch, iter): [1,   400] loss: 6.211\n",
      "--(Epoch, iter): [1,   450] loss: 6.223\n",
      "--(Epoch, iter): [1,   500] loss: 6.198\n",
      "--(Epoch, iter): [1,   550] loss: 6.192\n",
      "--(Epoch, iter): [1,   600] loss: 6.155\n",
      "--(Epoch, iter): [1,   650] loss: 6.176\n",
      "--(Epoch, iter): [1,   700] loss: 6.143\n",
      "--(Epoch, iter): [1,   750] loss: 6.195\n",
      "--(Epoch, iter): [1,   800] loss: 6.147\n",
      "--(Epoch, iter): [1,   850] loss: 6.173\n",
      "--(Epoch, iter): [1,   900] loss: 6.164\n",
      "--(Epoch, iter): [1,   950] loss: 6.139\n",
      "--(Epoch, iter): [1,  1000] loss: 6.154\n",
      "--(Epoch, iter): [1,  1050] loss: 6.139\n",
      "--(Epoch, iter): [1,  1100] loss: 6.117\n",
      "--(Epoch, iter): [1,  1150] loss: 6.104\n",
      "--(Epoch, iter): [1,  1200] loss: 6.165\n",
      "--(Epoch, iter): [1,  1250] loss: 6.106\n",
      "--(Epoch, iter): [1,  1300] loss: 6.127\n",
      "--(Epoch, iter): [1,  1350] loss: 6.083\n",
      "--(Epoch, iter): [1,  1400] loss: 6.133\n",
      "--(Epoch, iter): [1,  1450] loss: 6.142\n",
      "--(Epoch, iter): [1,  1500] loss: 6.098\n",
      "--(Epoch, iter): [1,  1550] loss: 6.076\n",
      "--(Epoch, iter): [1,  1600] loss: 6.085\n",
      "--(Epoch, iter): [1,  1650] loss: 6.109\n",
      "--(Epoch, iter): [1,  1700] loss: 6.042\n",
      "--(Epoch, iter): [1,  1750] loss: 6.072\n",
      "--(Epoch, iter): [1,  1800] loss: 6.088\n",
      "--(Epoch, iter): [1,  1850] loss: 6.110\n",
      "--(Epoch, iter): [1,  1900] loss: 6.115\n",
      "--(Epoch, iter): [1,  1950] loss: 6.105\n",
      "--(Epoch, iter): [1,  2000] loss: 6.077\n",
      "--(Epoch, iter): [1,  2050] loss: 6.111\n",
      "--(Epoch, iter): [1,  2100] loss: 6.116\n",
      "--(Epoch, iter): [1,  2150] loss: 6.066\n",
      "--(Epoch, iter): [1,  2200] loss: 6.096\n",
      "--(Epoch, iter): [1,  2250] loss: 6.085\n",
      "--(Epoch, iter): [1,  2300] loss: 6.064\n",
      "--(Epoch, iter): [1,  2350] loss: 6.071\n",
      "--(Epoch, iter): [1,  2400] loss: 6.080\n",
      "--(Epoch, iter): [1,  2450] loss: 6.046\n",
      "--(Epoch, iter): [1,  2500] loss: 6.033\n",
      "--(Epoch, iter): [1,  2550] loss: 6.028\n",
      "--(Epoch, iter): [1,  2600] loss: 6.037\n",
      "--(Epoch, iter): [1,  2650] loss: 6.059\n",
      "--(Epoch, iter): [1,  2700] loss: 6.049\n",
      "--(Epoch, iter): [1,  2750] loss: 6.077\n",
      "--(Epoch, iter): [1,  2800] loss: 6.078\n",
      "--(Epoch, iter): [1,  2850] loss: 6.029\n",
      "--(Epoch, iter): [1,  2900] loss: 6.042\n",
      "--(Epoch, iter): [1,  2950] loss: 6.042\n",
      "--(Epoch, iter): [1,  3000] loss: 6.071\n",
      "--(Epoch, iter): [1,  3050] loss: 6.061\n",
      "--(Epoch, iter): [1,  3100] loss: 6.062\n",
      "--(Epoch, iter): [1,  3150] loss: 6.000\n",
      "--(Epoch, iter): [1,  3200] loss: 6.032\n",
      "--(Epoch, iter): [1,  3250] loss: 6.032\n",
      "--(Epoch, iter): [1,  3300] loss: 6.046\n",
      "--(Epoch, iter): [1,  3350] loss: 6.031\n",
      "--(Epoch, iter): [1,  3400] loss: 6.015\n",
      "--(Epoch, iter): [1,  3450] loss: 6.014\n",
      "--(Epoch, iter): [1,  3500] loss: 6.014\n",
      "--(Epoch, iter): [1,  3550] loss: 6.003\n",
      "--(Epoch, iter): [1,  3600] loss: 6.046\n",
      "--(Epoch, iter): [1,  3650] loss: 6.026\n",
      "--(Epoch, iter): [1,  3700] loss: 6.008\n",
      "--(Epoch, iter): [1,  3750] loss: 6.040\n",
      "Epoch:  0 --- Loss:  tensor(5.7925) ---F1:  0.02270591085271318\n",
      "--(Epoch, iter): [2,    50] loss: 6.055\n",
      "--(Epoch, iter): [2,   100] loss: 5.969\n",
      "--(Epoch, iter): [2,   150] loss: 5.983\n",
      "--(Epoch, iter): [2,   200] loss: 5.951\n",
      "--(Epoch, iter): [2,   250] loss: 5.937\n",
      "--(Epoch, iter): [2,   300] loss: 5.944\n",
      "--(Epoch, iter): [2,   350] loss: 5.839\n",
      "--(Epoch, iter): [2,   400] loss: 5.792\n",
      "--(Epoch, iter): [2,   450] loss: 5.780\n",
      "--(Epoch, iter): [2,   500] loss: 5.736\n",
      "--(Epoch, iter): [2,   550] loss: 5.690\n",
      "--(Epoch, iter): [2,   600] loss: 5.640\n",
      "--(Epoch, iter): [2,   650] loss: 5.665\n",
      "--(Epoch, iter): [2,   700] loss: 5.580\n",
      "--(Epoch, iter): [2,   750] loss: 5.661\n",
      "--(Epoch, iter): [2,   800] loss: 5.586\n",
      "--(Epoch, iter): [2,   850] loss: 5.606\n",
      "--(Epoch, iter): [2,   900] loss: 5.624\n",
      "--(Epoch, iter): [2,   950] loss: 5.602\n",
      "--(Epoch, iter): [2,  1000] loss: 5.601\n",
      "--(Epoch, iter): [2,  1050] loss: 5.574\n",
      "--(Epoch, iter): [2,  1100] loss: 5.521\n",
      "--(Epoch, iter): [2,  1150] loss: 5.546\n",
      "--(Epoch, iter): [2,  1200] loss: 5.644\n",
      "--(Epoch, iter): [2,  1250] loss: 5.535\n",
      "--(Epoch, iter): [2,  1300] loss: 5.562\n",
      "--(Epoch, iter): [2,  1350] loss: 5.521\n",
      "--(Epoch, iter): [2,  1400] loss: 5.548\n",
      "--(Epoch, iter): [2,  1450] loss: 5.589\n",
      "--(Epoch, iter): [2,  1500] loss: 5.527\n",
      "--(Epoch, iter): [2,  1550] loss: 5.523\n",
      "--(Epoch, iter): [2,  1600] loss: 5.521\n",
      "--(Epoch, iter): [2,  1650] loss: 5.529\n",
      "--(Epoch, iter): [2,  1700] loss: 5.433\n",
      "--(Epoch, iter): [2,  1750] loss: 5.512\n",
      "--(Epoch, iter): [2,  1800] loss: 5.524\n",
      "--(Epoch, iter): [2,  1850] loss: 5.539\n",
      "--(Epoch, iter): [2,  1900] loss: 5.523\n",
      "--(Epoch, iter): [2,  1950] loss: 5.521\n",
      "--(Epoch, iter): [2,  2000] loss: 5.541\n",
      "--(Epoch, iter): [2,  2050] loss: 5.520\n",
      "--(Epoch, iter): [2,  2100] loss: 5.573\n",
      "--(Epoch, iter): [2,  2150] loss: 5.505\n",
      "--(Epoch, iter): [2,  2200] loss: 5.491\n",
      "--(Epoch, iter): [2,  2250] loss: 5.487\n",
      "--(Epoch, iter): [2,  2300] loss: 5.491\n",
      "--(Epoch, iter): [2,  2350] loss: 5.483\n",
      "--(Epoch, iter): [2,  2400] loss: 5.487\n",
      "--(Epoch, iter): [2,  2450] loss: 5.458\n",
      "--(Epoch, iter): [2,  2500] loss: 5.423\n",
      "--(Epoch, iter): [2,  2550] loss: 5.435\n",
      "--(Epoch, iter): [2,  2600] loss: 5.442\n",
      "--(Epoch, iter): [2,  2650] loss: 5.437\n",
      "--(Epoch, iter): [2,  2700] loss: 5.406\n",
      "--(Epoch, iter): [2,  2750] loss: 5.453\n",
      "--(Epoch, iter): [2,  2800] loss: 5.450\n",
      "--(Epoch, iter): [2,  2850] loss: 5.379\n",
      "--(Epoch, iter): [2,  2900] loss: 5.365\n",
      "--(Epoch, iter): [2,  2950] loss: 5.336\n",
      "--(Epoch, iter): [2,  3000] loss: 5.285\n",
      "--(Epoch, iter): [2,  3050] loss: 5.264\n",
      "--(Epoch, iter): [2,  3100] loss: 5.160\n",
      "--(Epoch, iter): [2,  3150] loss: 5.040\n",
      "--(Epoch, iter): [2,  3200] loss: 4.997\n",
      "--(Epoch, iter): [2,  3250] loss: 4.979\n",
      "--(Epoch, iter): [2,  3300] loss: 5.237\n",
      "--(Epoch, iter): [2,  3350] loss: 4.983\n",
      "--(Epoch, iter): [2,  3400] loss: 4.935\n",
      "--(Epoch, iter): [2,  3450] loss: 5.302\n",
      "--(Epoch, iter): [2,  3500] loss: 4.878\n",
      "--(Epoch, iter): [2,  3550] loss: 4.798\n",
      "--(Epoch, iter): [2,  3600] loss: 4.982\n",
      "--(Epoch, iter): [2,  3650] loss: 4.780\n",
      "--(Epoch, iter): [2,  3700] loss: 4.730\n",
      "--(Epoch, iter): [2,  3750] loss: 4.777\n",
      "Epoch:  1 --- Loss:  tensor(7.5687) ---F1:  0.01337869978858351\n",
      "--(Epoch, iter): [3,    50] loss: 5.715\n",
      "--(Epoch, iter): [3,   100] loss: 5.354\n",
      "--(Epoch, iter): [3,   150] loss: 5.275\n",
      "--(Epoch, iter): [3,   200] loss: 5.117\n",
      "--(Epoch, iter): [3,   250] loss: 4.962\n",
      "--(Epoch, iter): [3,   300] loss: 4.857\n",
      "--(Epoch, iter): [3,   350] loss: 5.001\n",
      "--(Epoch, iter): [3,   400] loss: 5.989\n",
      "--(Epoch, iter): [3,   450] loss: 5.844\n",
      "--(Epoch, iter): [3,   500] loss: 5.697\n",
      "--(Epoch, iter): [3,   550] loss: 5.666\n",
      "--(Epoch, iter): [3,   600] loss: 5.612\n",
      "--(Epoch, iter): [3,   650] loss: 5.638\n",
      "--(Epoch, iter): [3,   700] loss: 5.525\n",
      "--(Epoch, iter): [3,   750] loss: 5.596\n",
      "--(Epoch, iter): [3,   800] loss: 5.501\n",
      "--(Epoch, iter): [3,   850] loss: 5.514\n",
      "--(Epoch, iter): [3,   900] loss: 5.489\n",
      "--(Epoch, iter): [3,   950] loss: 5.462\n",
      "--(Epoch, iter): [3,  1000] loss: 5.401\n",
      "--(Epoch, iter): [3,  1050] loss: 5.294\n",
      "--(Epoch, iter): [3,  1100] loss: 5.172\n",
      "--(Epoch, iter): [3,  1150] loss: 5.142\n",
      "--(Epoch, iter): [3,  1200] loss: 5.199\n",
      "--(Epoch, iter): [3,  1250] loss: 5.148\n",
      "--(Epoch, iter): [3,  1300] loss: 5.106\n",
      "--(Epoch, iter): [3,  1350] loss: 5.082\n",
      "--(Epoch, iter): [3,  1400] loss: 5.041\n",
      "--(Epoch, iter): [3,  1450] loss: 5.056\n",
      "--(Epoch, iter): [3,  1500] loss: 5.132\n",
      "--(Epoch, iter): [3,  1550] loss: 4.980\n",
      "--(Epoch, iter): [3,  1600] loss: 5.674\n",
      "--(Epoch, iter): [3,  1650] loss: 5.300\n",
      "--(Epoch, iter): [3,  1700] loss: 4.994\n",
      "--(Epoch, iter): [3,  1750] loss: 5.827\n",
      "--(Epoch, iter): [3,  1800] loss: 5.328\n",
      "--(Epoch, iter): [3,  1850] loss: 5.009\n",
      "--(Epoch, iter): [3,  1900] loss: 5.173\n",
      "--(Epoch, iter): [3,  1950] loss: 5.176\n",
      "--(Epoch, iter): [3,  2000] loss: 4.999\n",
      "--(Epoch, iter): [3,  2050] loss: 5.171\n",
      "--(Epoch, iter): [3,  2100] loss: 5.315\n",
      "--(Epoch, iter): [3,  2150] loss: 5.062\n",
      "--(Epoch, iter): [3,  2200] loss: 6.596\n",
      "--(Epoch, iter): [3,  2250] loss: 6.465\n",
      "--(Epoch, iter): [3,  2300] loss: 6.268\n",
      "--(Epoch, iter): [3,  2350] loss: 6.200\n",
      "--(Epoch, iter): [3,  2400] loss: 6.144\n",
      "--(Epoch, iter): [3,  2450] loss: 6.099\n",
      "--(Epoch, iter): [3,  2500] loss: 6.061\n",
      "--(Epoch, iter): [3,  2550] loss: 6.037\n",
      "--(Epoch, iter): [3,  2600] loss: 6.032\n"
     ]
    },
    {
     "name": "stdout",
     "output_type": "stream",
     "text": [
      "--(Epoch, iter): [3,  2650] loss: 6.052\n",
      "--(Epoch, iter): [3,  2700] loss: 6.032\n",
      "--(Epoch, iter): [3,  2750] loss: 6.029\n",
      "--(Epoch, iter): [3,  2800] loss: 6.045\n",
      "--(Epoch, iter): [3,  2850] loss: 5.972\n",
      "--(Epoch, iter): [3,  2900] loss: 5.955\n",
      "--(Epoch, iter): [3,  2950] loss: 5.935\n",
      "--(Epoch, iter): [3,  3000] loss: 5.926\n",
      "--(Epoch, iter): [3,  3050] loss: 5.885\n",
      "--(Epoch, iter): [3,  3100] loss: 5.835\n",
      "--(Epoch, iter): [3,  3150] loss: 5.727\n",
      "--(Epoch, iter): [3,  3200] loss: 5.726\n",
      "--(Epoch, iter): [3,  3250] loss: 5.713\n",
      "--(Epoch, iter): [3,  3300] loss: 5.684\n",
      "--(Epoch, iter): [3,  3350] loss: 5.663\n",
      "--(Epoch, iter): [3,  3400] loss: 5.618\n",
      "--(Epoch, iter): [3,  3450] loss: 5.582\n",
      "--(Epoch, iter): [3,  3500] loss: 5.556\n",
      "--(Epoch, iter): [3,  3550] loss: 5.533\n",
      "--(Epoch, iter): [3,  3600] loss: 5.584\n",
      "--(Epoch, iter): [3,  3650] loss: 5.523\n",
      "--(Epoch, iter): [3,  3700] loss: 5.454\n",
      "--(Epoch, iter): [3,  3750] loss: 5.497\n",
      "Epoch:  2 --- Loss:  tensor(6.2205) ---F1:  0.015641516913319237\n",
      "--(Epoch, iter): [4,    50] loss: 5.468\n",
      "--(Epoch, iter): [4,   100] loss: 5.341\n",
      "--(Epoch, iter): [4,   150] loss: 5.314\n",
      "--(Epoch, iter): [4,   200] loss: 5.214\n",
      "--(Epoch, iter): [4,   250] loss: 5.215\n",
      "--(Epoch, iter): [4,   300] loss: 5.202\n",
      "--(Epoch, iter): [4,   350] loss: 5.114\n",
      "--(Epoch, iter): [4,   400] loss: 5.063\n",
      "--(Epoch, iter): [4,   450] loss: 5.001\n",
      "--(Epoch, iter): [4,   500] loss: 4.965\n",
      "--(Epoch, iter): [4,   550] loss: 4.951\n",
      "--(Epoch, iter): [4,   600] loss: 4.996\n",
      "--(Epoch, iter): [4,   650] loss: 5.500\n",
      "--(Epoch, iter): [4,   700] loss: 4.974\n",
      "--(Epoch, iter): [4,   750] loss: 4.956\n",
      "--(Epoch, iter): [4,   800] loss: 4.859\n",
      "--(Epoch, iter): [4,   850] loss: 5.008\n",
      "--(Epoch, iter): [4,   900] loss: 4.903\n",
      "--(Epoch, iter): [4,   950] loss: 5.510\n",
      "--(Epoch, iter): [4,  1000] loss: 5.706\n",
      "--(Epoch, iter): [4,  1050] loss: 5.582\n",
      "--(Epoch, iter): [4,  1100] loss: 5.493\n",
      "--(Epoch, iter): [4,  1150] loss: 5.470\n",
      "--(Epoch, iter): [4,  1200] loss: 5.547\n",
      "--(Epoch, iter): [4,  1250] loss: 5.408\n",
      "--(Epoch, iter): [4,  1300] loss: 5.419\n",
      "--(Epoch, iter): [4,  1350] loss: 5.367\n",
      "--(Epoch, iter): [4,  1400] loss: 5.354\n",
      "--(Epoch, iter): [4,  1450] loss: 5.347\n",
      "--(Epoch, iter): [4,  1500] loss: 5.281\n",
      "--(Epoch, iter): [4,  1550] loss: 5.239\n",
      "--(Epoch, iter): [4,  1600] loss: 5.154\n",
      "--(Epoch, iter): [4,  1650] loss: 4.941\n",
      "--(Epoch, iter): [4,  1700] loss: 4.762\n",
      "--(Epoch, iter): [4,  1750] loss: 4.809\n",
      "--(Epoch, iter): [4,  1800] loss: 4.762\n",
      "--(Epoch, iter): [4,  1850] loss: 4.804\n",
      "--(Epoch, iter): [4,  1900] loss: 4.792\n",
      "--(Epoch, iter): [4,  1950] loss: 4.705\n",
      "--(Epoch, iter): [4,  2000] loss: 4.923\n",
      "--(Epoch, iter): [4,  2050] loss: 5.291\n",
      "--(Epoch, iter): [4,  2100] loss: 4.884\n",
      "--(Epoch, iter): [4,  2150] loss: 4.740\n",
      "--(Epoch, iter): [4,  2200] loss: 4.698\n",
      "--(Epoch, iter): [4,  2250] loss: 4.853\n",
      "--(Epoch, iter): [4,  2300] loss: 4.743\n",
      "--(Epoch, iter): [4,  2350] loss: 4.672\n",
      "--(Epoch, iter): [4,  2400] loss: 4.743\n",
      "--(Epoch, iter): [4,  2450] loss: 4.669\n",
      "--(Epoch, iter): [4,  2500] loss: 6.174\n",
      "--(Epoch, iter): [4,  2550] loss: 5.999\n",
      "--(Epoch, iter): [4,  2600] loss: 5.792\n",
      "--(Epoch, iter): [4,  2650] loss: 5.702\n",
      "--(Epoch, iter): [4,  2700] loss: 5.621\n",
      "--(Epoch, iter): [4,  2750] loss: 5.658\n",
      "--(Epoch, iter): [4,  2800] loss: 5.615\n",
      "--(Epoch, iter): [4,  2850] loss: 5.535\n",
      "--(Epoch, iter): [4,  2900] loss: 5.494\n",
      "--(Epoch, iter): [4,  2950] loss: 5.440\n",
      "--(Epoch, iter): [4,  3000] loss: 5.419\n",
      "--(Epoch, iter): [4,  3050] loss: 5.410\n",
      "--(Epoch, iter): [4,  3100] loss: 5.347\n",
      "--(Epoch, iter): [4,  3150] loss: 5.221\n",
      "--(Epoch, iter): [4,  3200] loss: 5.104\n",
      "--(Epoch, iter): [4,  3250] loss: 5.029\n",
      "--(Epoch, iter): [4,  3300] loss: 4.958\n",
      "--(Epoch, iter): [4,  3350] loss: 4.938\n",
      "--(Epoch, iter): [4,  3400] loss: 4.877\n",
      "--(Epoch, iter): [4,  3450] loss: 4.887\n",
      "--(Epoch, iter): [4,  3500] loss: 5.236\n",
      "--(Epoch, iter): [4,  3550] loss: 4.789\n",
      "--(Epoch, iter): [4,  3600] loss: 5.083\n",
      "--(Epoch, iter): [4,  3650] loss: 4.850\n",
      "--(Epoch, iter): [4,  3700] loss: 4.727\n",
      "--(Epoch, iter): [4,  3750] loss: 5.054\n",
      "Epoch:  3 --- Loss:  tensor(6.7760) ---F1:  0.015096458773784354\n",
      "--(Epoch, iter): [5,    50] loss: 5.055\n",
      "--(Epoch, iter): [5,   100] loss: 4.853\n",
      "--(Epoch, iter): [5,   150] loss: 5.954\n",
      "--(Epoch, iter): [5,   200] loss: 6.230\n",
      "--(Epoch, iter): [5,   250] loss: 6.048\n",
      "--(Epoch, iter): [5,   300] loss: 5.951\n",
      "--(Epoch, iter): [5,   350] loss: 5.818\n",
      "--(Epoch, iter): [5,   400] loss: 5.718\n",
      "--(Epoch, iter): [5,   450] loss: 5.665\n",
      "--(Epoch, iter): [5,   500] loss: 5.581\n",
      "--(Epoch, iter): [5,   550] loss: 5.561\n",
      "--(Epoch, iter): [5,   600] loss: 5.520\n",
      "--(Epoch, iter): [5,   650] loss: 5.533\n",
      "--(Epoch, iter): [5,   700] loss: 5.438\n",
      "--(Epoch, iter): [5,   750] loss: 5.524\n",
      "--(Epoch, iter): [5,   800] loss: 5.425\n",
      "--(Epoch, iter): [5,   850] loss: 5.468\n",
      "--(Epoch, iter): [5,   900] loss: 5.450\n",
      "--(Epoch, iter): [5,   950] loss: 5.408\n",
      "--(Epoch, iter): [5,  1000] loss: 5.397\n",
      "--(Epoch, iter): [5,  1050] loss: 5.367\n",
      "--(Epoch, iter): [5,  1100] loss: 5.286\n",
      "--(Epoch, iter): [5,  1150] loss: 5.268\n",
      "--(Epoch, iter): [5,  1200] loss: 5.351\n",
      "--(Epoch, iter): [5,  1250] loss: 5.190\n",
      "--(Epoch, iter): [5,  1300] loss: 5.192\n",
      "--(Epoch, iter): [5,  1350] loss: 5.141\n",
      "--(Epoch, iter): [5,  1400] loss: 5.041\n",
      "--(Epoch, iter): [5,  1450] loss: 4.908\n",
      "--(Epoch, iter): [5,  1500] loss: 4.868\n",
      "--(Epoch, iter): [5,  1550] loss: 4.911\n",
      "--(Epoch, iter): [5,  1600] loss: 4.791\n",
      "--(Epoch, iter): [5,  1650] loss: 4.863\n",
      "--(Epoch, iter): [5,  1700] loss: 5.096\n",
      "--(Epoch, iter): [5,  1750] loss: 4.946\n",
      "--(Epoch, iter): [5,  1800] loss: 4.836\n",
      "--(Epoch, iter): [5,  1850] loss: 4.743\n",
      "--(Epoch, iter): [5,  1900] loss: 4.738\n",
      "--(Epoch, iter): [5,  1950] loss: 4.715\n",
      "--(Epoch, iter): [5,  2000] loss: 4.786\n",
      "--(Epoch, iter): [5,  2050] loss: 5.341\n",
      "--(Epoch, iter): [5,  2100] loss: 4.896\n",
      "--(Epoch, iter): [5,  2150] loss: 4.625\n",
      "--(Epoch, iter): [5,  2200] loss: 4.612\n",
      "--(Epoch, iter): [5,  2250] loss: 4.821\n",
      "--(Epoch, iter): [5,  2300] loss: 4.635\n",
      "--(Epoch, iter): [5,  2350] loss: 4.595\n",
      "--(Epoch, iter): [5,  2400] loss: 4.940\n",
      "--(Epoch, iter): [5,  2450] loss: 4.601\n",
      "--(Epoch, iter): [5,  2500] loss: 5.763\n",
      "--(Epoch, iter): [5,  2550] loss: 6.055\n",
      "--(Epoch, iter): [5,  2600] loss: 5.980\n",
      "--(Epoch, iter): [5,  2650] loss: 5.889\n",
      "--(Epoch, iter): [5,  2700] loss: 5.663\n",
      "--(Epoch, iter): [5,  2750] loss: 5.476\n",
      "--(Epoch, iter): [5,  2800] loss: 5.284\n",
      "--(Epoch, iter): [5,  2850] loss: 4.988\n",
      "--(Epoch, iter): [5,  2900] loss: 4.839\n",
      "--(Epoch, iter): [5,  2950] loss: 4.835\n",
      "--(Epoch, iter): [5,  3000] loss: 4.853\n",
      "--(Epoch, iter): [5,  3050] loss: 4.838\n",
      "--(Epoch, iter): [5,  3100] loss: 5.675\n",
      "--(Epoch, iter): [5,  3150] loss: 5.380\n",
      "--(Epoch, iter): [5,  3200] loss: 5.273\n",
      "--(Epoch, iter): [5,  3250] loss: 5.244\n",
      "--(Epoch, iter): [5,  3300] loss: 5.108\n",
      "--(Epoch, iter): [5,  3350] loss: 4.990\n",
      "--(Epoch, iter): [5,  3400] loss: 4.855\n",
      "--(Epoch, iter): [5,  3450] loss: 4.745\n",
      "--(Epoch, iter): [5,  3500] loss: 4.738\n",
      "--(Epoch, iter): [5,  3550] loss: 4.676\n",
      "--(Epoch, iter): [5,  3600] loss: 5.038\n",
      "--(Epoch, iter): [5,  3650] loss: 4.653\n",
      "--(Epoch, iter): [5,  3700] loss: 4.551\n",
      "--(Epoch, iter): [5,  3750] loss: 5.457\n",
      "Epoch:  4 --- Loss:  tensor(7.9747) ---F1:  0.012205998942917547\n"
     ]
    }
   ],
   "source": [
    "count = 0\n",
    "loss_list = []\n",
    "f1_list = []\n",
    "iteration_list = []\n",
    "for epoch in range(num_epochs):\n",
    "    running_loss = 0.0\n",
    "    model.train()\n",
    "    for i, batch in enumerate(train_loader):\n",
    "        train, labels = batch\n",
    "       \n",
    "        optimizer.zero_grad()\n",
    "        hidden = model.initHidden(train.size(0))\n",
    "        \n",
    "        \n",
    "        outputs, _ = model(train, hidden)\n",
    "        \n",
    "        loss = loss_func(outputs, labels)        \n",
    "        loss.backward()\n",
    "        \n",
    "        optimizer.step()\n",
    "        running_loss += loss.item()\n",
    "        if i % 50 == 49:    # print every 2000 mini-batches\n",
    "            print('--(Epoch, iter): [%d, %5d] loss: %.3f' %\n",
    "                  (epoch + 1, i + 1, running_loss / 50))\n",
    "            running_loss = 0.0\n",
    "            \n",
    "\n",
    "    model.eval()\n",
    "    test_loss = 0\n",
    "    f1 = 0\n",
    "    with torch.no_grad():\n",
    "        for i, batch in enumerate(test_loader):\n",
    "            test, labels = batch\n",
    "            hidden = model.initHidden(test.size(0))\n",
    "            pred, _  = model(test, hidden)\n",
    "            test_loss += loss_func(pred, labels)\n",
    "            \n",
    "            _, pred = torch.max(pred.data, 1)\n",
    "#             print(pred.shape)\n",
    "#             print(labels.shape)\n",
    "            \n",
    "            f1 += f1_score(pred, labels, average = 'micro')\n",
    "            \n",
    "    print(\"Epoch: \", epoch, \"--- Loss: \", test_loss / len(test_loader), '---F1: ', (f1/len(test_loader)))\n",
    "        \n",
    "#         if count %50 == 0:\n",
    "            \n",
    "#             correct = 0\n",
    "#             total = 0\n",
    "#             predicted=[]\n",
    "#             for i, batch in enumerate(test_loader):\n",
    "#                 test, labels = batch\n",
    "#                 test = test.view(batch_size, 1, max_len, vocab_size)\n",
    "                 \n",
    "#                 outputs = model(test)\n",
    "                \n",
    "#                 predicted.append(torch.max(outputs.data, 1)[1])\n",
    "                \n",
    "#             f1 = f1_score(predicted, labelTest)\n",
    "            \n",
    "#             loss_list.append(loss.data)\n",
    "#             iteration_list.append(count)\n",
    "#             if count% 100 == 0:\n",
    "#                 print('Iteration: {}, Loss: {}, F1: {}%'.format(count, loss.data, f1))        "
   ]
  },
  {
   "cell_type": "code",
   "execution_count": 135,
   "metadata": {},
   "outputs": [
    {
     "data": {
      "image/png": "[encoded data removed]",
      "text/plain": [
       "<Figure size 1008x432 with 1 Axes>"
      ]
     },
     "metadata": {},
     "output_type": "display_data"
    },
    {
     "data": {
      "image/png": "[encoded data removed]",
      "text/plain": [
       "<Figure size 1008x432 with 1 Axes>"
      ]
     },
     "metadata": {},
     "output_type": "display_data"
    }
   ],
   "source": [
    "plt.plot(iteration_list,loss_list)\n",
    "plt.xlabel(\"Number of iteration\")\n",
    "plt.ylabel(\"Loss\")\n",
    "plt.title(\"F1: Loss vs Number of iteration\")\n",
    "plt.show()\n",
    "\n",
    "# visualization F1 \n",
    "plt.plot(iteration_list,f1_list,color = \"red\")\n",
    "plt.xlabel(\"Number of iteration\")\n",
    "plt.ylabel(\"F1\")\n",
    "plt.title(\"BiGRU: F1 vs Number of iteration\")\n",
    "plt.show()"
   ]
  },
  {
   "cell_type": "code",
   "execution_count": 182,
   "metadata": {},
   "outputs": [],
   "source": [
    "x = data.copy(deep = True)"
   ]
  },
  {
   "cell_type": "code",
   "execution_count": 186,
   "metadata": {},
   "outputs": [],
   "source": [
    "x['len'] = x['tweets'].apply(lambda x: len(x))"
   ]
  },
  {
   "cell_type": "code",
   "execution_count": 187,
   "metadata": {},
   "outputs": [
    {
     "data": {
      "text/html": [
       "<div>\n",
       "<style scoped>\n",
       "    .dataframe tbody tr th:only-of-type {\n",
       "        vertical-align: middle;\n",
       "    }\n",
       "\n",
       "    .dataframe tbody tr th {\n",
       "        vertical-align: top;\n",
       "    }\n",
       "\n",
       "    .dataframe thead th {\n",
       "        text-align: right;\n",
       "    }\n",
       "</style>\n",
       "<table border=\"1\" class=\"dataframe\">\n",
       "  <thead>\n",
       "    <tr style=\"text-align: right;\">\n",
       "      <th></th>\n",
       "      <th>tweets</th>\n",
       "      <th>labels</th>\n",
       "      <th>len</th>\n",
       "    </tr>\n",
       "  </thead>\n",
       "  <tbody>\n",
       "    <tr>\n",
       "      <th>0</th>\n",
       "      <td>breaking federal judge dismisses president tru...</td>\n",
       "      <td>Politics</td>\n",
       "      <td>84</td>\n",
       "    </tr>\n",
       "    <tr>\n",
       "      <th>1</th>\n",
       "      <td>joe biden grapples attacks president trump ris...</td>\n",
       "      <td>Politics</td>\n",
       "      <td>63</td>\n",
       "    </tr>\n",
       "    <tr>\n",
       "      <th>2</th>\n",
       "      <td>read letter former national security officials...</td>\n",
       "      <td>Politics</td>\n",
       "      <td>89</td>\n",
       "    </tr>\n",
       "    <tr>\n",
       "      <th>3</th>\n",
       "      <td>rt newday jaw floor says sen chriscoons sen ro...</td>\n",
       "      <td>Politics</td>\n",
       "      <td>95</td>\n",
       "    </tr>\n",
       "    <tr>\n",
       "      <th>4</th>\n",
       "      <td>pete buttigieg proposes seizing patents enforc...</td>\n",
       "      <td>Politics</td>\n",
       "      <td>113</td>\n",
       "    </tr>\n",
       "  </tbody>\n",
       "</table>\n",
       "</div>"
      ],
      "text/plain": [
       "                                              tweets    labels  len\n",
       "0  breaking federal judge dismisses president tru...  Politics   84\n",
       "1  joe biden grapples attacks president trump ris...  Politics   63\n",
       "2  read letter former national security officials...  Politics   89\n",
       "3  rt newday jaw floor says sen chriscoons sen ro...  Politics   95\n",
       "4  pete buttigieg proposes seizing patents enforc...  Politics  113"
      ]
     },
     "execution_count": 187,
     "metadata": {},
     "output_type": "execute_result"
    }
   ],
   "source": [
    "x.head(n=5)"
   ]
  },
  {
   "cell_type": "code",
   "execution_count": 189,
   "metadata": {},
   "outputs": [
    {
     "data": {
      "text/plain": [
       "294"
      ]
     },
     "execution_count": 189,
     "metadata": {},
     "output_type": "execute_result"
    }
   ],
   "source": [
    "x['len'].max()"
   ]
  },
  {
   "cell_type": "code",
   "execution_count": 204,
   "metadata": {},
   "outputs": [],
   "source": [
    "s = x[x['len'] == x['len'].max()]['tweets'].values"
   ]
  },
  {
   "cell_type": "code",
   "execution_count": null,
   "metadata": {},
   "outputs": [],
   "source": [
    "x_train, x_test= map(torch.tensor, (x_train, x_test))"
   ]
  },
  {
   "cell_type": "code",
   "execution_count": 12,
   "metadata": {},
   "outputs": [
    {
     "ename": "NameError",
     "evalue": "name 'x_train' is not defined",
     "output_type": "error",
     "traceback": [
      "\u001b[0;31m---------------------------------------------------------------------------\u001b[0m",
      "\u001b[0;31mNameError\u001b[0m                                 Traceback (most recent call last)",
      "\u001b[0;32m<ipython-input-12-2de196e5636f>\u001b[0m in \u001b[0;36m<module>\u001b[0;34m()\u001b[0m\n\u001b[0;32m----> 1\u001b[0;31m \u001b[0mtrain_loader\u001b[0m \u001b[0;34m=\u001b[0m \u001b[0mTensorDataset\u001b[0m\u001b[0;34m(\u001b[0m\u001b[0mx_train\u001b[0m\u001b[0;34m,\u001b[0m \u001b[0my_train\u001b[0m\u001b[0;34m)\u001b[0m\u001b[0;34m\u001b[0m\u001b[0;34m\u001b[0m\u001b[0m\n\u001b[0m\u001b[1;32m      2\u001b[0m \u001b[0mtest_loader\u001b[0m \u001b[0;34m=\u001b[0m \u001b[0mTensorDataset\u001b[0m\u001b[0;34m(\u001b[0m\u001b[0mx_test\u001b[0m\u001b[0;34m,\u001b[0m \u001b[0my_test\u001b[0m\u001b[0;34m)\u001b[0m\u001b[0;34m\u001b[0m\u001b[0;34m\u001b[0m\u001b[0m\n\u001b[1;32m      3\u001b[0m \u001b[0mtrain_loader\u001b[0m \u001b[0;34m=\u001b[0m \u001b[0mDataLoader\u001b[0m\u001b[0;34m(\u001b[0m\u001b[0mtrain_loader\u001b[0m\u001b[0;34m,\u001b[0m \u001b[0mbatch_size\u001b[0m \u001b[0;34m=\u001b[0m \u001b[0mbatch_size\u001b[0m\u001b[0;34m,\u001b[0m \u001b[0mshuffle\u001b[0m \u001b[0;34m=\u001b[0m \u001b[0;32mTrue\u001b[0m\u001b[0;34m)\u001b[0m\u001b[0;34m\u001b[0m\u001b[0;34m\u001b[0m\u001b[0m\n\u001b[1;32m      4\u001b[0m \u001b[0mtest_loader\u001b[0m \u001b[0;34m=\u001b[0m \u001b[0mDataLoader\u001b[0m\u001b[0;34m(\u001b[0m\u001b[0mtest_loader\u001b[0m\u001b[0;34m,\u001b[0m \u001b[0mbatch_size\u001b[0m \u001b[0;34m=\u001b[0m \u001b[0mbatch_size\u001b[0m \u001b[0;34m*\u001b[0m \u001b[0;36m2\u001b[0m\u001b[0;34m,\u001b[0m \u001b[0mshuffle\u001b[0m \u001b[0;34m=\u001b[0m \u001b[0;32mTrue\u001b[0m\u001b[0;34m)\u001b[0m\u001b[0;34m\u001b[0m\u001b[0;34m\u001b[0m\u001b[0m\n",
      "\u001b[0;31mNameError\u001b[0m: name 'x_train' is not defined"
     ]
    }
   ],
   "source": [
    "train_loader = TensorDataset(x_train, y_train)\n",
    "test_loader = TensorDataset(x_test, y_test)\n",
    "train_loader = DataLoader(train_loader, batch_size = batch_size, shuffle = True)\n",
    "test_loader = DataLoader(test_loader, batch_size = batch_size * 2, shuffle = True)"
   ]
  },
  {
   "cell_type": "code",
   "execution_count": 154,
   "metadata": {},
   "outputs": [],
   "source": []
  },
  {
   "cell_type": "code",
   "execution_count": 156,
   "metadata": {},
   "outputs": [],
   "source": []
  }
 ],
 "metadata": {
  "kernelspec": {
   "display_name": "Python 3",
   "language": "python",
   "name": "python3"
  },
  "language_info": {
   "codemirror_mode": {
    "name": "ipython",
    "version": 3
   },
   "file_extension": ".py",
   "mimetype": "text/x-python",
   "name": "python",
   "nbconvert_exporter": "python",
   "pygments_lexer": "ipython3",
   "version": "3.7.3"
  }
 },
 "nbformat": 4,
 "nbformat_minor": 2
}
